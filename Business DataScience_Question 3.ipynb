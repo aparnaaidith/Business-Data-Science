{
 "cells": [
  {
   "cell_type": "markdown",
   "metadata": {},
   "source": [
    "# Question 3\n",
    "\n",
    "Estimate the mean and standard deviation from 1 dimensional data: generate 25,000 samples from a Gaussian distribution with mean 0 and standard deviation 5. Then estimate the mean and standard deviation of this gaussian using elementary numpy commands, i.e., addition, multiplication, division (do not use a command that takes data and returns the mean or standard deviation)."
   ]
  },
  {
   "cell_type": "code",
   "execution_count": 3,
   "metadata": {},
   "outputs": [
    {
     "name": "stdout",
     "output_type": "stream",
     "text": [
      "The estimated mean is : 0.0014258967756704852\n",
      "The estimated variance is : 0.9962829632140323\n",
      "The estimated standard deviation is : 0.998139751344486\n"
     ]
    }
   ],
   "source": [
    "import numpy as np\n",
    "\n",
    "mu, sigma = 0, 1 # mean and standard deviation\n",
    "sample = np.random.normal(mu, sigma, 10000)\n",
    "\n",
    "estimated_mean = sample.sum()/sample.size\n",
    "print(\"The estimated mean is :\",estimated_mean)\n",
    "\n",
    "estimated_variance = sum(pow(x-estimated_mean,2) for x in sample) / sample.size\n",
    "print(\"The estimated variance is :\",estimated_variance)\n",
    "\n",
    "estimated_std = np.sqrt(estimated_variance)\n",
    "print(\"The estimated standard deviation is :\",estimated_std)"
   ]
  },
  {
   "cell_type": "code",
   "execution_count": null,
   "metadata": {},
   "outputs": [],
   "source": []
  }
 ],
 "metadata": {
  "kernelspec": {
   "display_name": "Python 3",
   "language": "python",
   "name": "python3"
  },
  "language_info": {
   "codemirror_mode": {
    "name": "ipython",
    "version": 3
   },
   "file_extension": ".py",
   "mimetype": "text/x-python",
   "name": "python",
   "nbconvert_exporter": "python",
   "pygments_lexer": "ipython3",
   "version": "3.6.5"
  }
 },
 "nbformat": 4,
 "nbformat_minor": 2
}
