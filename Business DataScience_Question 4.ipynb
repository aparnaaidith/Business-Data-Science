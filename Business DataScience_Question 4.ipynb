{
 "cells": [
  {
   "cell_type": "markdown",
   "metadata": {},
   "source": [
    "# Question 4\n",
    "Estimate the mean and covariance matrix for multi-dimensional data: generate 10,000 samples\n",
    "of 2 dimensional data from the Gaussian distribution\n",
    "\u0012\n",
    "Xi\n",
    "Yi\n",
    "\u0013\n",
    "∼ N \u0012\u0012−5\n",
    "5\n",
    "\u0013\n",
    ",\n",
    "\u0012\n",
    "20 .8\n",
    ".8 30\u0013\u0013 . \n",
    "\n",
    "(1)\n",
    "Then, estimate the mean and covariance matrix for this multi-dimensional data using elementary\n",
    "numpy commands, i.e., addition, multiplication, division (do not use a command that\n",
    "takes data and returns the mean or standard deviation)."
   ]
  },
  {
   "cell_type": "code",
   "execution_count": 99,
   "metadata": {},
   "outputs": [
    {
     "name": "stdout",
     "output_type": "stream",
     "text": [
      "List\n",
      "[[  3.11009474   0.40876771]\n",
      " [ 12.99919485 -12.26232351]\n",
      " [  9.58684442 -11.56425375]\n",
      " ...\n",
      " [  6.12729268  -1.81861621]\n",
      " [  6.03220957  -8.24918797]\n",
      " [  1.76441483   3.2996818 ]]\n",
      "The estimated Mean is [ 4.97993269 -5.01403295]\n",
      "The estimated variance is : [20.05730781 29.68609556]\n",
      "The estimated covariance is : 0.7934479043078843\n",
      "Covariance matrix is [[20.05730781187715, 0.7934479043078843], [0.7934479043078843, 29.68609556155429]]\n",
      "The estimated covariance using matmul is : [[20.05931374  0.7934479 ]\n",
      " [ 0.7934479  29.68906447]]\n"
     ]
    }
   ],
   "source": [
    "import numpy as np\n",
    " \n",
    "samples = np.array(([20,.8],[.8,30]))\n",
    "print('List')\n",
    "\n",
    "number = np.random.multivariate_normal([5,-5],samples,10000)\n",
    "print(number)\n",
    "\n",
    "estimated_mean = sum(number) / len(number)\n",
    "print('The estimated Mean is',estimated_mean)\n",
    "\n",
    "estimated_variance = np.sum((number - estimated_mean)**2,axis=0) / 10000\n",
    "print(\"The estimated variance is :\",estimated_variance)\n",
    "\n",
    "\n",
    "estimated_covariance = np.multiply(*(number - estimated_mean).T).sum() / 9999\n",
    "print(\"The estimated covariance is :\",estimated_covariance)\n",
    "\n",
    "print(\"Covariance matrix is {}\".format([[estimated_variance[0], estimated_covariance], [estimated_covariance, estimated_variance[1]]]))\n",
    "\n",
    "n = [x - estimated_mean for x in number]\n",
    "covariance_matrix = np.matmul( np.transpose(n), n) / 9999\n",
    "print(\"The estimated covariance using matmul is :\",covariance_matrix)\n",
    "\n",
    "\n"
   ]
  },
  {
   "cell_type": "markdown",
   "metadata": {},
   "source": [
    "# Method 2 :"
   ]
  },
  {
   "cell_type": "code",
   "execution_count": 84,
   "metadata": {},
   "outputs": [
    {
     "name": "stdout",
     "output_type": "stream",
     "text": [
      "The estimated mean is :  [-4.94798231  5.0118986 ]\n",
      "The covariance matrix is : [[20.48170762  0.62789166]\n",
      " [ 0.62789166 30.2038061 ]]\n"
     ]
    }
   ],
   "source": [
    "mean = [-5,5]\n",
    "cov = [[20, 0.8], [0.8, 30]];\n",
    "\n",
    "sample = np.random.multivariate_normal(mean, cov, 10000)\n",
    "estimated_mean = np.sum(sample, axis=0) / np.size(sample, axis=0)\n",
    "print(\"The estimated mean is : \", estimated_mean)\n",
    "\n",
    "numbers = [x - mean for x in sample]\n",
    "covariance_matrix = np.matmul( np.transpose(numbers), numbers) / 9999\n",
    "\n",
    "print(\"The covariance matrix is :\", covariance_matrix)\n"
   ]
  },
  {
   "cell_type": "code",
   "execution_count": null,
   "metadata": {},
   "outputs": [],
   "source": []
  }
 ],
 "metadata": {
  "kernelspec": {
   "display_name": "Python 3",
   "language": "python",
   "name": "python3"
  },
  "language_info": {
   "codemirror_mode": {
    "name": "ipython",
    "version": 3
   },
   "file_extension": ".py",
   "mimetype": "text/x-python",
   "name": "python",
   "nbconvert_exporter": "python",
   "pygments_lexer": "ipython3",
   "version": "3.6.5"
  }
 },
 "nbformat": 4,
 "nbformat_minor": 2
}
