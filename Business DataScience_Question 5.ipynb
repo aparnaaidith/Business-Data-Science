{
 "cells": [
  {
   "cell_type": "markdown",
   "metadata": {},
   "source": [
    "# Question 5\n",
    "\n",
    "Each row is a patient and the last column is the condition that the patient has. Do data exploration using Pandas and other visualization tools to understand what you can about the dataset."
   ]
  },
  {
   "cell_type": "markdown",
   "metadata": {},
   "source": [
    "## (a) How many patients and how many features are there?"
   ]
  },
  {
   "cell_type": "code",
   "execution_count": 4,
   "metadata": {},
   "outputs": [],
   "source": [
    "import pandas as pd\n",
    "\n",
    "df = pd.read_csv('/Users/aparnaaidith/Desktop/My Python Projects/BIG DATA/PatientData.csv',header=None,na_values=['?'])"
   ]
  },
  {
   "cell_type": "code",
   "execution_count": 5,
   "metadata": {},
   "outputs": [
    {
     "name": "stdout",
     "output_type": "stream",
     "text": [
      "The total number of patients :  452\n",
      "The total number of features :  280\n"
     ]
    }
   ],
   "source": [
    "no_of_patients = df.shape[0]\n",
    "print(\"The total number of patients : \",no_of_patients)\n",
    "no_of_features = df.shape[1]\n",
    "print(\"The total number of features : \",no_of_features)"
   ]
  },
  {
   "cell_type": "markdown",
   "metadata": {},
   "source": [
    "## (b) What is the meaning of the first 4 features? See if you can understand what they mean."
   ]
  },
  {
   "cell_type": "markdown",
   "metadata": {},
   "source": [
    " 1) Feature - Age of the patient\n",
    " \n",
    " 2) Feature - Gender of the patient\n",
    "             0 : Male\n",
    "             1 : Female\n",
    "             \n",
    " 3) Feature - Height of the patient\n",
    " \n",
    " 4) Feature - Weight of the patient"
   ]
  },
  {
   "cell_type": "markdown",
   "metadata": {},
   "source": [
    "## (c) Are there missing values? Replace them with the average of the corresponding feature column"
   ]
  },
  {
   "cell_type": "code",
   "execution_count": 6,
   "metadata": {},
   "outputs": [
    {
     "data": {
      "text/plain": [
       "0        NaN\n",
       "1        NaN\n",
       "2       23.0\n",
       "3        NaN\n",
       "4        NaN\n",
       "5        NaN\n",
       "6        NaN\n",
       "7        NaN\n",
       "8       84.0\n",
       "9        NaN\n",
       "10       NaN\n",
       "11       NaN\n",
       "12       NaN\n",
       "13       NaN\n",
       "14       NaN\n",
       "15       NaN\n",
       "16       NaN\n",
       "17       NaN\n",
       "18       NaN\n",
       "19       NaN\n",
       "20       NaN\n",
       "21       NaN\n",
       "22       NaN\n",
       "23       NaN\n",
       "24       NaN\n",
       "25       NaN\n",
       "26       NaN\n",
       "27       NaN\n",
       "28       NaN\n",
       "29     160.0\n",
       "       ...  \n",
       "422      NaN\n",
       "423      NaN\n",
       "424    103.0\n",
       "425      NaN\n",
       "426    -84.0\n",
       "427      NaN\n",
       "428      NaN\n",
       "429      NaN\n",
       "430    -44.0\n",
       "431      NaN\n",
       "432      NaN\n",
       "433      NaN\n",
       "434      NaN\n",
       "435      NaN\n",
       "436      NaN\n",
       "437      NaN\n",
       "438      NaN\n",
       "439      NaN\n",
       "440    -90.0\n",
       "441      NaN\n",
       "442      NaN\n",
       "443      NaN\n",
       "444      NaN\n",
       "445      NaN\n",
       "446      NaN\n",
       "447      NaN\n",
       "448      NaN\n",
       "449     84.0\n",
       "450    103.0\n",
       "451      NaN\n",
       "Name: 13, Length: 452, dtype: float64"
      ]
     },
     "execution_count": 6,
     "metadata": {},
     "output_type": "execute_result"
    }
   ],
   "source": [
    "df[13]"
   ]
  },
  {
   "cell_type": "code",
   "execution_count": 7,
   "metadata": {},
   "outputs": [],
   "source": [
    "df.fillna(df.mean(),inplace=True)"
   ]
  },
  {
   "cell_type": "code",
   "execution_count": 8,
   "metadata": {},
   "outputs": [
    {
     "data": {
      "text/plain": [
       "0      -13.592105\n",
       "1      -13.592105\n",
       "2       23.000000\n",
       "3      -13.592105\n",
       "4      -13.592105\n",
       "5      -13.592105\n",
       "6      -13.592105\n",
       "7      -13.592105\n",
       "8       84.000000\n",
       "9      -13.592105\n",
       "10     -13.592105\n",
       "11     -13.592105\n",
       "12     -13.592105\n",
       "13     -13.592105\n",
       "14     -13.592105\n",
       "15     -13.592105\n",
       "16     -13.592105\n",
       "17     -13.592105\n",
       "18     -13.592105\n",
       "19     -13.592105\n",
       "20     -13.592105\n",
       "21     -13.592105\n",
       "22     -13.592105\n",
       "23     -13.592105\n",
       "24     -13.592105\n",
       "25     -13.592105\n",
       "26     -13.592105\n",
       "27     -13.592105\n",
       "28     -13.592105\n",
       "29     160.000000\n",
       "          ...    \n",
       "422    -13.592105\n",
       "423    -13.592105\n",
       "424    103.000000\n",
       "425    -13.592105\n",
       "426    -84.000000\n",
       "427    -13.592105\n",
       "428    -13.592105\n",
       "429    -13.592105\n",
       "430    -44.000000\n",
       "431    -13.592105\n",
       "432    -13.592105\n",
       "433    -13.592105\n",
       "434    -13.592105\n",
       "435    -13.592105\n",
       "436    -13.592105\n",
       "437    -13.592105\n",
       "438    -13.592105\n",
       "439    -13.592105\n",
       "440    -90.000000\n",
       "441    -13.592105\n",
       "442    -13.592105\n",
       "443    -13.592105\n",
       "444    -13.592105\n",
       "445    -13.592105\n",
       "446    -13.592105\n",
       "447    -13.592105\n",
       "448    -13.592105\n",
       "449     84.000000\n",
       "450    103.000000\n",
       "451    -13.592105\n",
       "Name: 13, Length: 452, dtype: float64"
      ]
     },
     "execution_count": 8,
     "metadata": {},
     "output_type": "execute_result"
    }
   ],
   "source": [
    "df[13]"
   ]
  },
  {
   "cell_type": "markdown",
   "metadata": {},
   "source": [
    "## (d) How could you test which features strongly influence the patient condition and which do not?"
   ]
  },
  {
   "cell_type": "code",
   "execution_count": 9,
   "metadata": {},
   "outputs": [
    {
     "data": {
      "text/plain": [
       "279    1.000000\n",
       "90     0.368876\n",
       "4      0.323879\n",
       "92     0.313982\n",
       "102    0.282523\n",
       "223    0.235488\n",
       "233    0.218811\n",
       "17     0.195198\n",
       "29     0.183083\n",
       "94     0.174346\n",
       "52     0.173243\n",
       "125    0.170670\n",
       "191    0.165693\n",
       "68     0.152534\n",
       "239    0.151782\n",
       "77     0.143284\n",
       "152    0.141506\n",
       "221    0.141274\n",
       "56     0.141103\n",
       "113    0.140502\n",
       "119    0.132195\n",
       "181    0.130360\n",
       "149    0.130056\n",
       "228    0.128490\n",
       "65     0.127210\n",
       "198    0.125873\n",
       "249    0.124823\n",
       "193    0.122928\n",
       "107    0.121711\n",
       "88     0.120726\n",
       "         ...   \n",
       "8     -0.122003\n",
       "208   -0.134657\n",
       "161   -0.135180\n",
       "202   -0.142731\n",
       "252   -0.150610\n",
       "172   -0.158536\n",
       "247   -0.159612\n",
       "260   -0.162153\n",
       "270   -0.164321\n",
       "168   -0.171763\n",
       "1     -0.178080\n",
       "242   -0.189458\n",
       "162   -0.197555\n",
       "19          NaN\n",
       "67          NaN\n",
       "69          NaN\n",
       "83          NaN\n",
       "131         NaN\n",
       "132         NaN\n",
       "139         NaN\n",
       "141         NaN\n",
       "143         NaN\n",
       "145         NaN\n",
       "151         NaN\n",
       "156         NaN\n",
       "157         NaN\n",
       "164         NaN\n",
       "204         NaN\n",
       "264         NaN\n",
       "274         NaN\n",
       "Name: 279, Length: 280, dtype: float64"
      ]
     },
     "execution_count": 9,
     "metadata": {},
     "output_type": "execute_result"
    }
   ],
   "source": [
    "df.corr()[279].sort_values(ascending = False)"
   ]
  },
  {
   "cell_type": "markdown",
   "metadata": {},
   "source": []
  },
  {
   "cell_type": "code",
   "execution_count": null,
   "metadata": {},
   "outputs": [],
   "source": []
  }
 ],
 "metadata": {
  "kernelspec": {
   "display_name": "py_37_env",
   "language": "python",
   "name": "py_37_env"
  },
  "language_info": {
   "codemirror_mode": {
    "name": "ipython",
    "version": 3
   },
   "file_extension": ".py",
   "mimetype": "text/x-python",
   "name": "python",
   "nbconvert_exporter": "python",
   "pygments_lexer": "ipython3",
   "version": "3.7.0"
  }
 },
 "nbformat": 4,
 "nbformat_minor": 2
}
